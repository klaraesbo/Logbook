{
 "cells": [
  {
   "cell_type": "markdown",
   "id": "6ad742b4",
   "metadata": {},
   "source": [
    "# Logbook Master Project \n",
    "## 1 Nov \n",
    "---\n",
    "### Project\n",
    "Cell Image Segmentation\n",
    "### Aim\n",
    "The aim of today was to learn how to read, show and save images in google colab and how to use github and create a logbook. \n",
    "\n",
    "### Description\n",
    "Did a tutorial for using cv2 and created a logbook on github. Ran into some issues with updating the local repository as my branch was called \"master\" branch in the terminal but \"main\" in github. Accidentally created two branches and had to deleate one and make sure that the logbook was in the right one. \n",
    "\n",
    "### Results/Conclusions \n",
    "I have a logbook on github. \n",
    "\n",
    "### Next Steps\n",
    "Learn more about pandas, matplotlib and seaborn.\n"
   ]
  },
  {
   "cell_type": "markdown",
   "id": "4ced56b0",
   "metadata": {},
   "source": [
    "## 2 Nov \n",
    "---\n",
    "### Project\n",
    "Cell Image Segmentation\n",
    "### Aim\n",
    "Start with the first task (Task 1).\n",
    "### Description\n",
    "Finished the first part of my first segmentation task: plotted (showed) an image using cv2 and numpy, printed siza and number of channels using the .shape attribute, plotted the pixel distribution of the image using matplotlib.pyplot (plt), and plt.hist(.ravel()). \n",
    "### Results/Conclusions\n",
    "A visualization of the pixel distribution and more knowledge of the matplotlib library. \n",
    "### Next Steps\n",
    "I will continue with the second part of task 1, reading a .tsv file, extracting x and y columns and so on. "
   ]
  }
 ],
 "metadata": {
  "kernelspec": {
   "display_name": "Python 3 (ipykernel)",
   "language": "python",
   "name": "python3"
  },
  "language_info": {
   "codemirror_mode": {
    "name": "ipython",
    "version": 3
   },
   "file_extension": ".py",
   "mimetype": "text/x-python",
   "name": "python",
   "nbconvert_exporter": "python",
   "pygments_lexer": "ipython3",
   "version": "3.9.12"
  }
 },
 "nbformat": 4,
 "nbformat_minor": 5
}
