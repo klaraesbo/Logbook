{
 "cells": [
  {
   "cell_type": "markdown",
   "id": "aca52f22",
   "metadata": {},
   "source": [
    "# Logbook Master Project \n",
    "## 1 Nov \n",
    "---\n",
    "### Project\n",
    "Cell image segmentation\n",
    "### Aim\n",
    "\n",
    "### Description\n",
    "Created logbook\n",
    "\n",
    "### Results/Conclusions \n",
    "Logbook\n",
    "\n",
    "### Next Steps\n"
   ]
  },
  {
   "cell_type": "code",
   "execution_count": null,
   "id": "02dca2bc",
   "metadata": {},
   "outputs": [],
   "source": []
  }
 ],
 "metadata": {
  "kernelspec": {
   "display_name": "Python 3 (ipykernel)",
   "language": "python",
   "name": "python3"
  },
  "language_info": {
   "codemirror_mode": {
    "name": "ipython",
    "version": 3
   },
   "file_extension": ".py",
   "mimetype": "text/x-python",
   "name": "python",
   "nbconvert_exporter": "python",
   "pygments_lexer": "ipython3",
   "version": "3.9.12"
  }
 },
 "nbformat": 4,
 "nbformat_minor": 5
}
