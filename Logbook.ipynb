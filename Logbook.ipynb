{
 "cells": [
  {
   "cell_type": "markdown",
   "id": "6ad742b4",
   "metadata": {},
   "source": [
    "# Logbook Master Project \n",
    "## 1 Nov \n",
    "---\n",
    "### Project\n",
    "Cell Image Segmentation\n",
    "### Aim\n",
    "The aim of today was to learn how to read, show and save images in google colab and how to use github and create a logbook. \n",
    "\n",
    "### Description\n",
    "Did a tutorial for using cv2 and created a logbook on github. Ran into some issues with updating the local repository as my branch was called \"master\" branch in the terminal but \"main\" in github. Accidentally created two branches and had to deleate one and make sure that the logbook was in the right one. \n",
    "\n",
    "### Results/Conclusions \n",
    "I have a logbook on github. \n",
    "\n",
    "### Next Steps\n",
    "Learn more about pandas, matplotlib and seaborn. ...\n"
   ]
  },
  {
   "cell_type": "code",
   "execution_count": 1,
   "id": "2b39aab9",
   "metadata": {},
   "outputs": [
    {
     "ename": "SyntaxError",
     "evalue": "invalid syntax (3428031139.py, line 1)",
     "output_type": "error",
     "traceback": [
      "\u001b[0;36m  Input \u001b[0;32mIn [1]\u001b[0;36m\u001b[0m\n\u001b[0;31m    log 2\u001b[0m\n\u001b[0m        ^\u001b[0m\n\u001b[0;31mSyntaxError\u001b[0m\u001b[0;31m:\u001b[0m invalid syntax\n"
     ]
    }
   ],
   "source": [
    "log 2"
   ]
  },
  {
   "cell_type": "code",
   "execution_count": null,
   "id": "3ad813e9",
   "metadata": {},
   "outputs": [],
   "source": []
  }
 ],
 "metadata": {
  "kernelspec": {
   "display_name": "Python 3 (ipykernel)",
   "language": "python",
   "name": "python3"
  },
  "language_info": {
   "codemirror_mode": {
    "name": "ipython",
    "version": 3
   },
   "file_extension": ".py",
   "mimetype": "text/x-python",
   "name": "python",
   "nbconvert_exporter": "python",
   "pygments_lexer": "ipython3",
   "version": "3.9.12"
  }
 },
 "nbformat": 4,
 "nbformat_minor": 5
}
